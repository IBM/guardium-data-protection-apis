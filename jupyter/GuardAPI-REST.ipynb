{
 "cells": [
  {
   "cell_type": "markdown",
   "id": "4f6ff051-d72d-4de2-9aed-a4126523ff77",
   "metadata": {},
   "source": [
    "## Import libraries for HTTP requests and loading environment variables"
   ]
  },
  {
   "cell_type": "markdown",
   "id": "4d17e992-0bc4-4946-9092-7ff7765e2af3",
   "metadata": {},
   "source": [
    "`requests` is required for HTTP requests\n",
    "\n",
    "`dotenv` is used in this guide to load properties from .env file. You can use different approach if you prefer\n",
    "\n",
    "`json` is purely optional library to provide formated json output for demo purposes. It's not required to work with json at all"
   ]
  },
  {
   "cell_type": "code",
   "execution_count": null,
   "id": "4abcc90d-b2df-450c-8917-a6148b35c9f4",
   "metadata": {},
   "outputs": [],
   "source": [
    "import requests\n",
    "from dotenv import dotenv_values\n",
    "import json\n",
    "\n",
    "# We need this to avoid warnings about disabled certificate verification. \n",
    "# In production you need to avoid verify=False and handle SSL properly.\n",
    "import warnings\n",
    "warnings.filterwarnings('ignore')"
   ]
  },
  {
   "cell_type": "markdown",
   "id": "8e43f7d8-663d-4043-aa0b-3185aefb0486",
   "metadata": {},
   "source": [
    "## Load environment settings and credentials from .env file\n",
    "Please create `.env` file containing necessary environment and creadentials variables. Store it next to this jupyter notebook or your python code (otherwise, you can provide correct path to .env file as argument for `dotenv_values()`).<br/>\n",
    "Variables to define:<br/>\n",
    "- `GDP_BASE_URL` - base URL for Guardium appliance GUI. Should include protocol, host, port. Avoid trailing slash. `protocol://host:port`\n",
    "- `CLIENT_ID, CLIENT_SECRET` - output of `grdapi register_oauth_client` cli command you need to run ahead of time on Guardium appliance\n",
    "- `GUI_USER, GUI_PASSWORD` - Guardium GUI login creadentials of user with access to features you would like to access/manage via REST API"
   ]
  },
  {
   "cell_type": "code",
   "execution_count": null,
   "id": "716d1eb8-5ff6-4a3c-a1b8-852745e71132",
   "metadata": {},
   "outputs": [],
   "source": [
    "env_vars = dotenv_values()\n",
    "gdp_base_url=env_vars.get('GDP_BASE_URL')\n",
    "client_id=env_vars.get('CLIENT_ID')\n",
    "client_secret=env_vars.get('CLIENT_SECRET')\n",
    "gui_user=env_vars.get('GUI_USER')\n",
    "gui_password=env_vars.get('GUI_PASSWORD')"
   ]
  },
  {
   "cell_type": "markdown",
   "id": "9e4326f2-7d46-47bd-a16c-d9f2af0bba6a",
   "metadata": {},
   "source": [
    "## Get token to access Guardium REST APIs"
   ]
  },
  {
   "cell_type": "code",
   "execution_count": null,
   "id": "3259d9df-0f6c-4c54-9524-cc19fdb05abb",
   "metadata": {},
   "outputs": [],
   "source": [
    "oauth_url = f\"{gdp_base_url}/oauth/token\"\n",
    "oauth_params = {\n",
    "    'client_id': client_id,\n",
    "    'client_secret': client_secret,\n",
    "    'grant_type': 'password',\n",
    "    'username': gui_user,\n",
    "    'password': gui_password\n",
    "}\n",
    "\n",
    "oauth_response = requests.post(oauth_url, params=oauth_params, verify=False)\n",
    "oauth_response_body = oauth_response.json()\n",
    "\n",
    "print(\"Oauth reponse body: \", json.dumps(oauth_response_body, indent=4))\n",
    "access_token = oauth_response_body['access_token']\n",
    "print(\"Access token: \", access_token)\n",
    "\n",
    "#Store access token for Guardium REST API calls (we save it here as HTTP header)\n",
    "auth_headers_for_restapi = {\n",
    "    'Authorization': f'Bearer {access_token}'\n",
    "}"
   ]
  },
  {
   "cell_type": "markdown",
   "id": "d43b6ade-1a44-41a9-82ec-ede427353b84",
   "metadata": {},
   "source": [
    "## Now you can explore REST API endpoints available to your user"
   ]
  },
  {
   "cell_type": "code",
   "execution_count": null,
   "id": "56445bb0-30c1-4dfa-b934-dc955f4816bc",
   "metadata": {},
   "outputs": [],
   "source": [
    "restapi_list_url = f\"{gdp_base_url}/restAPI/restapi\"\n",
    "restapi_list_params = {\n",
    "    'withParameters': 'false', # true/false (default)\n",
    "    'apiNameLike': '' #you can omit this parameter if you want to get a complete list of available functions\n",
    "}\n",
    "\n",
    "restapi_list_response = requests.get(restapi_list_url, headers=auth_headers_for_restapi, params=restapi_list_params, verify=False)\n",
    "\n",
    "print(json.dumps(restapi_list_response.json(), indent=4))"
   ]
  },
  {
   "cell_type": "markdown",
   "id": "1110123e-90d5-4a97-8141-308628249a7d",
   "metadata": {},
   "source": [
    "## Report retreival via REST API"
   ]
  },
  {
   "cell_type": "code",
   "execution_count": null,
   "id": "8b0f8459-0a8b-461d-9f36-9d519f32860b",
   "metadata": {},
   "outputs": [],
   "source": [
    "online_report_url = f\"{gdp_base_url}/restAPI/online_report\"\n",
    "online_report_data = {\n",
    "    \"reportName\": \"S-TAP Status Monitor\",\n",
    "    \"reportParameter\": {\n",
    "        \"SHOW_ALIASES\": \"Default\", \n",
    "        \"REMOTE_SOURCE\": \"%\"\n",
    "    }\n",
    "}\n",
    "\n",
    "online_report_response = requests.post(online_report_url, headers=auth_headers_for_restapi, json=online_report_data, verify=False)\n",
    "print(json.dumps(online_report_response.json(), indent=4))"
   ]
  },
  {
   "cell_type": "markdown",
   "id": "5e17d093-99da-45e5-950b-a694db0a5e3a",
   "metadata": {},
   "source": [
    "## Quick search\n",
    "\n",
    "This REST API is a wrapper for Solr queries, which are used on Investigation Dashboard. The command is similar to the search command, but has some improvements.\n",
    "\n",
    "This API is available in Guardium v11.3 and later. https://www.ibm.com/docs/en/guardium/11.5?topic=reference-quick-search"
   ]
  },
  {
   "cell_type": "code",
   "execution_count": null,
   "id": "49ea7268-0833-4326-8a5c-1e40dd317b54",
   "metadata": {},
   "outputs": [],
   "source": [
    "quick_search_url = f\"{gdp_base_url}/restAPI/quick_search\"\n",
    "quick_search_data = {\n",
    "    \"category\": \"ACCESS\", \n",
    "    \"inputTZ\": \"UTC\",\n",
    "    \"startTime\": \"20240301 00:00:01\", \n",
    "    \"endTime\": \"20240326 23:00:11\", \n",
    "    \"filters\":\"name=DB Type&value=MS SQL SERVER\"\n",
    "}\n",
    "quick_search_response = requests.post(quick_search_url, headers=auth_headers_for_restapi, json=quick_search_data, verify=False)\n",
    "print(json.dumps(quick_search_response.json(), indent=4))"
   ]
  },
  {
   "cell_type": "markdown",
   "id": "8e5be2f0-b104-45ff-a8dd-1380b580990f",
   "metadata": {},
   "source": [
    "### Field titles\n",
    "\n",
    "As you may have noticed, field keys for quick search results are not labels. You you want to show result in some report or on your customer GUI, `fieldTitled` can provide you with decoding of field labels"
   ]
  },
  {
   "cell_type": "code",
   "execution_count": null,
   "id": "c22e3359-c3a6-4bcd-b7ad-3462ebf2ee34",
   "metadata": {},
   "outputs": [],
   "source": [
    "field_titles_url = f\"{gdp_base_url}/restAPI/fieldsTitles\"\n",
    "field_titles_response = requests.get(field_titles_url, headers=auth_headers_for_restapi, verify=False)\n",
    "print(json.dumps(field_titles_response.json(), indent=4))"
   ]
  },
  {
   "cell_type": "markdown",
   "id": "5066fdfc-d8ec-4099-a381-ebaa089e4669",
   "metadata": {},
   "source": [
    "### Example of how one can combine quick search results with field labels"
   ]
  },
  {
   "cell_type": "code",
   "execution_count": null,
   "id": "9045de11-244a-4fee-be95-460f4bd6a332",
   "metadata": {},
   "outputs": [],
   "source": [
    "def replace_keys_with_labels(obj, label_dict):\n",
    "    if isinstance(obj, dict):\n",
    "        return {label_dict.get(k, k): replace_keys_with_labels(v, label_dict) for k, v in obj.items()}\n",
    "    elif isinstance(obj, list):\n",
    "        return [replace_keys_with_labels(item, label_dict) for item in obj]\n",
    "    else:\n",
    "        return obj\n",
    "\n",
    "quick_search_response_with_labels = replace_keys_with_labels(quick_search_response.json(), field_titles_response.json()[0])\n",
    "print(json.dumps(quick_search_response_with_labels[0][\"items\"], indent=4))"
   ]
  },
  {
   "cell_type": "markdown",
   "id": "5f5b6309-72b6-4336-aec8-3c9ed8974d33",
   "metadata": {},
   "source": [
    "## Group management"
   ]
  },
  {
   "cell_type": "markdown",
   "id": "ddc0986a-0a20-499b-9899-1c4b69d5126e",
   "metadata": {},
   "source": [
    "### Create group"
   ]
  },
  {
   "cell_type": "code",
   "execution_count": null,
   "id": "66ad6ae9-e08a-45e3-b8ce-d74b7985ed99",
   "metadata": {},
   "outputs": [],
   "source": [
    "group_url = f\"{gdp_base_url}/restAPI/group\"\n",
    "create_group_data = {\n",
    "    \"appid\": \"PUBLIC\",\n",
    "    \"type\": \"USERS\",\n",
    "    \"desc\": \"Guargium VUG group\"\n",
    "}\n",
    "create_group_response = requests.post(group_url, headers=auth_headers_for_restapi, json=create_group_data, verify=False)\n",
    "print(json.dumps(create_group_response.json(), indent=4))\n",
    "\n",
    "group_desc_param = {\n",
    "    \"desc\": \"Guargium VUG group\"\n",
    "}\n",
    "get_group_response = requests.get(group_url, headers=auth_headers_for_restapi, params=group_desc_param, verify=False)\n",
    "print(json.dumps(get_group_response.json(), indent=4))"
   ]
  },
  {
   "cell_type": "markdown",
   "id": "31f9cf80-f892-4888-87f7-16eea0ca865d",
   "metadata": {},
   "source": [
    "### Add member to group"
   ]
  },
  {
   "cell_type": "code",
   "execution_count": null,
   "id": "1550e6a7-cce1-40cc-8eb4-de02649fa2ff",
   "metadata": {},
   "outputs": [],
   "source": [
    "add_group_member_url = f\"{gdp_base_url}/restAPI/group_member\"\n",
    "add_group_member_data = {\n",
    "    \"desc\": \"Guargium VUG group\",\n",
    "    \"member\": \"Friendly member\"\n",
    "}\n",
    "add_group_member_response = requests.post(add_group_member_url, headers=auth_headers_for_restapi, json=add_group_member_data, verify=False)\n",
    "print(json.dumps(add_group_member_response.json(), indent=4))\n",
    "\n",
    "get_group_members_url = f\"{gdp_base_url}/restAPI/group_members_by_group_desc\"\n",
    "get_group_members_response = requests.get(get_group_members_url, headers=auth_headers_for_restapi, params=group_desc_param, verify=False)\n",
    "print(json.dumps(get_group_members_response.json(), indent=4))"
   ]
  },
  {
   "cell_type": "markdown",
   "id": "ae828c43-0818-4ac7-9abf-e0eda9a8fac1",
   "metadata": {},
   "source": [
    "### Delete group"
   ]
  },
  {
   "cell_type": "code",
   "execution_count": null,
   "id": "36400c1c-0cc4-45cb-b97d-d2109c3ba2c7",
   "metadata": {},
   "outputs": [],
   "source": [
    "delete_group_response = requests.delete(group_url, headers=auth_headers_for_restapi, params=group_desc_param, verify=False)\n",
    "print(json.dumps(add_group_member_response.json(), indent=4))"
   ]
  },
  {
   "cell_type": "markdown",
   "id": "fe9637ed-9613-4c0a-8d48-65d795417230",
   "metadata": {},
   "source": [
    "## Updating users\n",
    "\n",
    "There can be multiple different use cases when Guardium users may need update from external system.\n",
    "Let's assume a situation when there is Privilieged Identity Management solution that needs to rotate passwords for Guardium cli user accounts (cli, guardcli1...guardcli9).\n",
    "\n",
    "### Prerequisites\n",
    "For user related operations it's necessary to use GUI user with accessmgr role (we need new access token for this exercise)\n",
    "\n",
    "### Update guardcli1 password"
   ]
  },
  {
   "cell_type": "code",
   "execution_count": null,
   "id": "7b32120f-7cf3-4e83-85e7-5a27a59e7292",
   "metadata": {},
   "outputs": [],
   "source": [
    "update_user_url = f\"{gdp_base_url}/restAPI/user\"\n",
    "update_user_data = {\n",
    "    \"userName\": \"guardcli1\",\n",
    "    \"password\": \"validPwd@123\",\n",
    "    \"confirmPassword\": \"validPwd@123\"\n",
    "}\n",
    "update_user_response = requests.put(update_user_url, headers=auth_headers_for_restapi, json=update_user_data, verify=False)\n",
    "print(json.dumps(update_user_response.json(), indent=4))"
   ]
  },
  {
   "cell_type": "code",
   "execution_count": null,
   "id": "5e473ce0-c1db-451b-b6ff-72e51250d9cf",
   "metadata": {},
   "outputs": [],
   "source": []
  }
 ],
 "metadata": {
  "kernelspec": {
   "display_name": "Python 3 (ipykernel)",
   "language": "python",
   "name": "python3"
  },
  "language_info": {
   "codemirror_mode": {
    "name": "ipython",
    "version": 3
   },
   "file_extension": ".py",
   "mimetype": "text/x-python",
   "name": "python",
   "nbconvert_exporter": "python",
   "pygments_lexer": "ipython3",
   "version": "3.11.7"
  }
 },
 "nbformat": 4,
 "nbformat_minor": 5
}
